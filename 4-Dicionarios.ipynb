{
 "cells": [
  {
   "cell_type": "markdown",
   "id": "2d3b0403",
   "metadata": {},
   "source": [
    "### É uma coleção associativa desordenada(diferente do Set) composta de chave-valor"
   ]
  },
  {
   "cell_type": "code",
   "execution_count": 45,
   "id": "86d79aec",
   "metadata": {},
   "outputs": [],
   "source": [
    "dados_cidade = {\n",
    "    \"nome\": \"São Paulo\",\n",
    "    \"estado\": \"São Paulo\",\n",
    "    \"km2\": 1521,\n",
    "    \"populacao(milhoes)\": 12.18\n",
    "} "
   ]
  },
  {
   "cell_type": "code",
   "execution_count": 46,
   "id": "1c4e402f",
   "metadata": {},
   "outputs": [
    {
     "data": {
      "text/plain": [
       "dict"
      ]
     },
     "execution_count": 46,
     "metadata": {},
     "output_type": "execute_result"
    }
   ],
   "source": [
    "type(dados_cidade)"
   ]
  },
  {
   "cell_type": "code",
   "execution_count": 47,
   "id": "a6b45deb",
   "metadata": {},
   "outputs": [
    {
     "name": "stdout",
     "output_type": "stream",
     "text": [
      "{'nome': 'São Paulo', 'estado': 'São Paulo', 'km2': 1521, 'populacao(milhoes)': 12.18}\n"
     ]
    }
   ],
   "source": [
    "print(dados_cidade)"
   ]
  },
  {
   "cell_type": "markdown",
   "id": "a2103b77",
   "metadata": {},
   "source": [
    "### Adicionar mais um par chave valor"
   ]
  },
  {
   "cell_type": "code",
   "execution_count": 48,
   "id": "6e65b14e",
   "metadata": {},
   "outputs": [],
   "source": [
    "dados_cidade[\"pais\"] = \"Brasil\""
   ]
  },
  {
   "cell_type": "code",
   "execution_count": 49,
   "id": "a52149c8",
   "metadata": {},
   "outputs": [
    {
     "name": "stdout",
     "output_type": "stream",
     "text": [
      "{'nome': 'São Paulo', 'estado': 'São Paulo', 'km2': 1521, 'populacao(milhoes)': 12.18, 'pais': 'Brasil'}\n"
     ]
    }
   ],
   "source": [
    "print(dados_cidade)"
   ]
  },
  {
   "cell_type": "markdown",
   "id": "a3aab057",
   "metadata": {},
   "source": [
    "### Exibir o Valor de uma dada chave"
   ]
  },
  {
   "cell_type": "code",
   "execution_count": 50,
   "id": "1353d421",
   "metadata": {},
   "outputs": [
    {
     "name": "stdout",
     "output_type": "stream",
     "text": [
      "São Paulo\n"
     ]
    }
   ],
   "source": [
    "print(dados_cidade[\"nome\"])"
   ]
  },
  {
   "cell_type": "markdown",
   "id": "55c866f3",
   "metadata": {},
   "source": [
    "### Alterar valor de uma dada chave"
   ]
  },
  {
   "cell_type": "code",
   "execution_count": 51,
   "id": "df73c209",
   "metadata": {},
   "outputs": [
    {
     "name": "stdout",
     "output_type": "stream",
     "text": [
      "{'nome': 'São Paulo', 'estado': 'São Paulo', 'km2': 1234.5678, 'populacao(milhoes)': 12.18, 'pais': 'Brasil'}\n"
     ]
    },
    {
     "data": {
      "text/plain": [
       "'1234.57'"
      ]
     },
     "execution_count": 51,
     "metadata": {},
     "output_type": "execute_result"
    }
   ],
   "source": [
    "dados_cidade[\"km2\"] = 1234.5678\n",
    "print(dados_cidade)\n",
    "f'{dados_cidade[\"km2\"]:.2f}'"
   ]
  },
  {
   "cell_type": "markdown",
   "id": "c8897787",
   "metadata": {},
   "source": [
    "# Método Copy"
   ]
  },
  {
   "cell_type": "code",
   "execution_count": 53,
   "id": "d2b36a0e",
   "metadata": {},
   "outputs": [
    {
     "name": "stdout",
     "output_type": "stream",
     "text": [
      "{'nome': 'Santos', 'estado': 'São Paulo', 'km2': 1234.5678, 'populacao(milhoes)': 12.18, 'pais': 'Brasil'}\n",
      "{'nome': 'Santos', 'estado': 'São Paulo', 'km2': 1234.5678, 'populacao(milhoes)': 12.18, 'pais': 'Brasil'}\n"
     ]
    }
   ],
   "source": [
    "# OBS: Quando se atribui uma lista ou um dicionário a uma outra variável essa copia \n",
    "#      é feita por referência(como se fosse um ponteiro) e não como valor\n",
    "#Ex:\n",
    "dados_cidade_2 = dados_cidade\n",
    "dados_cidade_2[\"nome\"] = \"Santos\"\n",
    "print(dados_cidade) # Foi alterada tbm\n",
    "print(dados_cidade_2)"
   ]
  },
  {
   "cell_type": "code",
   "execution_count": 54,
   "id": "0c558a11",
   "metadata": {},
   "outputs": [
    {
     "name": "stdout",
     "output_type": "stream",
     "text": [
      "{'nome': 'São Paulo', 'estado': 'São Paulo', 'km2': 1234.5678, 'populacao(milhoes)': 12.18, 'pais': 'Brasil'}\n",
      "{'nome': 'São Paulo', 'estado': 'São Paulo', 'km2': 1234.5678, 'populacao(milhoes)': 12.18, 'pais': 'Brasil'}\n",
      "{'nome': 'São Paulo', 'estado': 'São Paulo', 'km2': 1234.5678, 'populacao(milhoes)': 12.18, 'pais': 'Brasil'}\n",
      "{'nome': 'Santos', 'estado': 'São Paulo', 'km2': 1234.5678, 'populacao(milhoes)': 12.18, 'pais': 'Brasil'}\n"
     ]
    }
   ],
   "source": [
    "# Para que isso não acontece usasse o método Copy\n",
    "dados_cidade[\"nome\"] = \"São Paulo\"\n",
    "print(dados_cidade)\n",
    "dados_cidade_2 = dados_cidade.copy() # passagem por valor\n",
    "print(dados_cidade_2)\n",
    "# Alteração\n",
    "dados_cidade_2[\"nome\"] = \"Santos\"\n",
    "print(dados_cidade) # Não foi alterado\n",
    "print(dados_cidade_2)"
   ]
  },
  {
   "cell_type": "markdown",
   "id": "bb5d1114",
   "metadata": {},
   "source": [
    "# Concatenação de outro dicionario"
   ]
  },
  {
   "cell_type": "code",
   "execution_count": 55,
   "id": "0a52f6e2",
   "metadata": {},
   "outputs": [],
   "source": [
    "novos_dados = {\n",
    "    \"populacao(milhoes)\": 15,\n",
    "    \"fundacao\": \"25/01/1554\"\n",
    "}"
   ]
  },
  {
   "cell_type": "code",
   "execution_count": 56,
   "id": "ec4a1076",
   "metadata": {},
   "outputs": [
    {
     "data": {
      "text/plain": [
       "{'populacao(milhoes)': 15, 'fundacao': '25/01/1554'}"
      ]
     },
     "execution_count": 56,
     "metadata": {},
     "output_type": "execute_result"
    }
   ],
   "source": [
    "novos_dados "
   ]
  },
  {
   "cell_type": "code",
   "execution_count": 57,
   "id": "08ce3741",
   "metadata": {},
   "outputs": [],
   "source": [
    "dados_cidade.update(novos_dados)"
   ]
  },
  {
   "cell_type": "code",
   "execution_count": 59,
   "id": "c6e3a5fe",
   "metadata": {},
   "outputs": [
    {
     "data": {
      "text/plain": [
       "{'nome': 'São Paulo',\n",
       " 'estado': 'São Paulo',\n",
       " 'km2': 1234.5678,\n",
       " 'populacao(milhoes)': 15,\n",
       " 'pais': 'Brasil',\n",
       " 'fundacao': '25/01/1554'}"
      ]
     },
     "execution_count": 59,
     "metadata": {},
     "output_type": "execute_result"
    }
   ],
   "source": [
    "# populacao foi atualizada e os novos atributos foram adicinados\n",
    "dados_cidade"
   ]
  },
  {
   "cell_type": "markdown",
   "id": "d3ce15eb",
   "metadata": {},
   "source": [
    "# Exibindo valores de forma Safe"
   ]
  },
  {
   "cell_type": "code",
   "execution_count": 64,
   "id": "c8917531",
   "metadata": {},
   "outputs": [
    {
     "ename": "KeyError",
     "evalue": "'prefeiro'",
     "output_type": "error",
     "traceback": [
      "\u001b[1;31m---------------------------------------------------------------------------\u001b[0m",
      "\u001b[1;31mKeyError\u001b[0m                                  Traceback (most recent call last)",
      "Input \u001b[1;32mIn [64]\u001b[0m, in \u001b[0;36m<cell line: 1>\u001b[1;34m()\u001b[0m\n\u001b[1;32m----> 1\u001b[0m \u001b[43mdados_cidade_2\u001b[49m\u001b[43m[\u001b[49m\u001b[38;5;124;43m\"\u001b[39;49m\u001b[38;5;124;43mprefeiro\u001b[39;49m\u001b[38;5;124;43m\"\u001b[39;49m\u001b[43m]\u001b[49m\n",
      "\u001b[1;31mKeyError\u001b[0m: 'prefeiro'"
     ]
    }
   ],
   "source": [
    "dados_cidade_2[\"prefeiro\"] # Erro"
   ]
  },
  {
   "cell_type": "code",
   "execution_count": 66,
   "id": "aad49cde",
   "metadata": {},
   "outputs": [
    {
     "name": "stdout",
     "output_type": "stream",
     "text": [
      "None\n"
     ]
    }
   ],
   "source": [
    "print(dados_cidade_2.get(\"prefeiro\"))"
   ]
  },
  {
   "cell_type": "markdown",
   "id": "1a060172",
   "metadata": {},
   "source": [
    "# Metodos"
   ]
  },
  {
   "cell_type": "code",
   "execution_count": 72,
   "id": "54e75be9",
   "metadata": {},
   "outputs": [
    {
     "name": "stdout",
     "output_type": "stream",
     "text": [
      "dict_keys(['nome', 'estado', 'km2', 'populacao(milhoes)', 'pais', 'fundacao'])\n",
      "\n",
      "dict_values(['São Paulo', 'São Paulo', 1234.5678, 15, 'Brasil', '25/01/1554'])\n",
      "\n",
      "dict_items([('nome', 'São Paulo'), ('estado', 'São Paulo'), ('km2', 1234.5678), ('populacao(milhoes)', 15), ('pais', 'Brasil'), ('fundacao', '25/01/1554')])\n"
     ]
    }
   ],
   "source": [
    "print(dados_cidade.keys())   # lista de chaves\n",
    "print(\"\")\n",
    "print(dados_cidade.values()) # lista de valores\n",
    "print(\"\")\n",
    "print(dados_cidade.items())  # Lista de tuplas [(chave,valor)]"
   ]
  },
  {
   "cell_type": "code",
   "execution_count": null,
   "id": "dd2be4e9",
   "metadata": {},
   "outputs": [],
   "source": []
  }
 ],
 "metadata": {
  "kernelspec": {
   "display_name": "Python 3 (ipykernel)",
   "language": "python",
   "name": "python3"
  },
  "language_info": {
   "codemirror_mode": {
    "name": "ipython",
    "version": 3
   },
   "file_extension": ".py",
   "mimetype": "text/x-python",
   "name": "python",
   "nbconvert_exporter": "python",
   "pygments_lexer": "ipython3",
   "version": "3.9.12"
  },
  "vscode": {
   "interpreter": {
    "hash": "77ec20f8f3735d78d7b87bcd7dbe6cd652e88ff12f7e716668843e2e5c7a8eed"
   }
  }
 },
 "nbformat": 4,
 "nbformat_minor": 5
}
