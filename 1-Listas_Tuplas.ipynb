{
 "cells": [
  {
   "cell_type": "markdown",
   "id": "cbef5213",
   "metadata": {},
   "source": [
    "### Listas e Tuplas"
   ]
  },
  {
   "cell_type": "code",
   "execution_count": 2,
   "id": "ffe477aa",
   "metadata": {},
   "outputs": [],
   "source": [
    "lista = [\"Brazil\", \"Japão\", \"Itália\", \"México\", \"Camarões\"]"
   ]
  },
  {
   "cell_type": "code",
   "execution_count": 3,
   "id": "900fb99c",
   "metadata": {},
   "outputs": [
    {
     "data": {
      "text/plain": [
       "list"
      ]
     },
     "execution_count": 3,
     "metadata": {},
     "output_type": "execute_result"
    }
   ],
   "source": [
    "type(lista)"
   ]
  },
  {
   "cell_type": "code",
   "execution_count": 4,
   "id": "73f4c97a",
   "metadata": {},
   "outputs": [],
   "source": [
    "tupla = \"Brazil\", \"Japão\", \"Itália\", \"México\""
   ]
  },
  {
   "cell_type": "code",
   "execution_count": 5,
   "id": "06040a8a",
   "metadata": {},
   "outputs": [
    {
     "data": {
      "text/plain": [
       "tuple"
      ]
     },
     "execution_count": 5,
     "metadata": {},
     "output_type": "execute_result"
    }
   ],
   "source": [
    "type(tupla)"
   ]
  },
  {
   "cell_type": "markdown",
   "id": "ee11b7bf",
   "metadata": {},
   "source": [
    "### Indice"
   ]
  },
  {
   "cell_type": "code",
   "execution_count": 6,
   "id": "64f0744e",
   "metadata": {},
   "outputs": [
    {
     "name": "stdout",
     "output_type": "stream",
     "text": [
      "Brazil\n",
      "México\n"
     ]
    }
   ],
   "source": [
    "print (lista[0])\n",
    "print (lista[3])"
   ]
  },
  {
   "cell_type": "markdown",
   "id": "fec47253",
   "metadata": {},
   "source": [
    "### Slice"
   ]
  },
  {
   "cell_type": "code",
   "execution_count": 7,
   "id": "1610b3e7",
   "metadata": {},
   "outputs": [
    {
     "name": "stdout",
     "output_type": "stream",
     "text": [
      "['Brazil', 'Japão', 'Itália', 'México', 'Camarões']\n",
      "['Brazil', 'Japão']\n",
      "['Brazil', 'Japão', 'Itália']\n"
     ]
    }
   ],
   "source": [
    "print(lista)\n",
    "print(lista[0:2]) # último ix não é incluso\n",
    "print(lista[0:3]) # último ix não é incluso"
   ]
  },
  {
   "cell_type": "code",
   "execution_count": 26,
   "id": "fd4fc50c",
   "metadata": {},
   "outputs": [
    {
     "name": "stdout",
     "output_type": "stream",
     "text": [
      "['Brazil', 'Japão', 'Itália', 'México', 'Camarões']\n"
     ]
    }
   ],
   "source": [
    "print(lista[0:]) # Step sem parada vai até o final da lista"
   ]
  },
  {
   "cell_type": "code",
   "execution_count": 27,
   "id": "ee40252c",
   "metadata": {},
   "outputs": [
    {
     "name": "stdout",
     "output_type": "stream",
     "text": [
      "Camarões\n"
     ]
    }
   ],
   "source": [
    "print(lista[-1]) # Último item"
   ]
  },
  {
   "cell_type": "code",
   "execution_count": 45,
   "id": "d2d73d83",
   "metadata": {},
   "outputs": [
    {
     "name": "stdout",
     "output_type": "stream",
     "text": [
      "México\n"
     ]
    }
   ],
   "source": [
    "print(lista[-2]) # Penútimo item"
   ]
  },
  {
   "cell_type": "code",
   "execution_count": 46,
   "id": "d6139c60",
   "metadata": {},
   "outputs": [
    {
     "name": "stdout",
     "output_type": "stream",
     "text": [
      "['Itália', 'México', 'Camarões']\n"
     ]
    }
   ],
   "source": [
    "print(lista[-3:]) # Últimos 3 itens"
   ]
  },
  {
   "cell_type": "markdown",
   "id": "c4e91029",
   "metadata": {},
   "source": [
    "### Aplicando índice de forma negativa \n",
    "\n",
    "<table  align =\"left\" >\n",
    "  <tr>\n",
    "    <td> -5 </td>   \n",
    "    <td> -4 </td> \n",
    "    <td> -3 </td> \n",
    "    <td> -2 </td> \n",
    "    <td> -1 </td>\n",
    "  </tr>\n",
    "  <tr>\n",
    "    <td> ['Brazil',   </td> \n",
    "    <td> 'Japão',     </td>\n",
    "    <td> 'Itália',    </td>\n",
    "    <td> 'México',    </td>\n",
    "    <td> 'Camarões'] </td>\n",
    "  </tr>\n",
    "</table>"
   ]
  },
  {
   "cell_type": "code",
   "execution_count": 38,
   "id": "4b447b76",
   "metadata": {},
   "outputs": [
    {
     "name": "stdout",
     "output_type": "stream",
     "text": [
      "['Brazil', 'Japão', 'Itália', 'México', 'Camarões']\n",
      "['Brazil', 'Japão', 'Itália', 'México', 'Camarões']\n"
     ]
    }
   ],
   "source": [
    "print(lista[-5:]) # MEsma coisa do exemplo [0:] pois ix aponta de forma decrescente para o item no inicio\n",
    "print(lista[-len(lista):]) # passando len e sinal negativo"
   ]
  },
  {
   "cell_type": "markdown",
   "id": "62094a21",
   "metadata": {},
   "source": [
    "### Exibir a Lista invertida\n",
    "<table  align =\"left\" >\n",
    "  <tr>\n",
    "    <td> -5 </td>   \n",
    "    <td> -4 </td> \n",
    "    <td> -3 </td> \n",
    "    <td> -2 </td> \n",
    "    <td> -1 </td>\n",
    "  </tr>\n",
    "  <tr>\n",
    "    <td> ['Brazil',   </td> \n",
    "    <td> 'Japão',     </td>\n",
    "    <td> 'Itália',    </td>\n",
    "    <td> 'México',    </td>\n",
    "    <td> 'Camarões'] </td>\n",
    "  </tr>\n",
    "</table>"
   ]
  },
  {
   "cell_type": "code",
   "execution_count": 44,
   "id": "88b60b9a",
   "metadata": {},
   "outputs": [
    {
     "name": "stdout",
     "output_type": "stream",
     "text": [
      "['Brazil', 'Japão', 'Itália', 'México', 'Camarões']\n",
      "['Camarões', 'México', 'Itália', 'Japão', 'Brazil']\n",
      "['Camarões', 'México', 'Itália', 'Japão', 'Brazil']\n"
     ]
    }
   ],
   "source": [
    "print(lista)\n",
    "print(lista[::-1]) # [Inicio: Final: Passo] => [-1: -(len(list)+1) : -1] => ['Camarões', 'Brazil', 'Camarões' ] \n",
    "print(lista[-1: -(len(lista)+1): -1])"
   ]
  },
  {
   "cell_type": "markdown",
   "id": "9c8a1ac9",
   "metadata": {},
   "source": [
    "## Slice Step"
   ]
  },
  {
   "cell_type": "code",
   "execution_count": 40,
   "id": "c414f9a3",
   "metadata": {},
   "outputs": [
    {
     "name": "stdout",
     "output_type": "stream",
     "text": [
      "5\n",
      "['Brazil', 'Japão', 'Itália', 'México', 'Camarões']\n"
     ]
    }
   ],
   "source": [
    "print(len(lista))\n",
    "print(lista[0:5:1]) # de 0 a 5 de 1 e 1 **OBS: 5 não é inclusivo mas necessário para chegar até o ix 4 = Camarões"
   ]
  },
  {
   "cell_type": "code",
   "execution_count": 64,
   "id": "b6fc1e9c",
   "metadata": {},
   "outputs": [
    {
     "name": "stdout",
     "output_type": "stream",
     "text": [
      "['Brazil', 'Itália', 'Camarões']\n"
     ]
    }
   ],
   "source": [
    "print(lista[0:5:2]) # de 0 a 5 de 2 e 2"
   ]
  },
  {
   "cell_type": "code",
   "execution_count": 65,
   "id": "e151999c",
   "metadata": {},
   "outputs": [
    {
     "name": "stdout",
     "output_type": "stream",
     "text": [
      "['Brazil', 'México']\n"
     ]
    }
   ],
   "source": [
    "print(lista[0:5:3]) # de 0 a 4 de 3 e 3"
   ]
  },
  {
   "cell_type": "markdown",
   "id": "da24f3ba",
   "metadata": {},
   "source": [
    "## Operações com listas"
   ]
  },
  {
   "cell_type": "code",
   "execution_count": 66,
   "id": "784789ff",
   "metadata": {},
   "outputs": [
    {
     "data": {
      "text/plain": [
       "['Brazil', 'Japão', 'Itália', 'México', 'Camarões']"
      ]
     },
     "execution_count": 66,
     "metadata": {},
     "output_type": "execute_result"
    }
   ],
   "source": [
    "lista"
   ]
  },
  {
   "cell_type": "code",
   "execution_count": 67,
   "id": "2363e580",
   "metadata": {},
   "outputs": [
    {
     "data": {
      "text/plain": [
       "['Brazil', 'Japão', 'Itália', 'México', 'Camarões', 'Grécia']"
      ]
     },
     "execution_count": 67,
     "metadata": {},
     "output_type": "execute_result"
    }
   ],
   "source": [
    "if \"Grécia\" not in lista: # Se nao existir\n",
    "    lista.append(\"Grécia\") # Insere no Final\n",
    "lista"
   ]
  },
  {
   "cell_type": "code",
   "execution_count": 68,
   "id": "e197198a",
   "metadata": {},
   "outputs": [
    {
     "data": {
      "text/plain": [
       "['Brazil', 'Romênia', 'Japão', 'Itália', 'México', 'Camarões', 'Grécia']"
      ]
     },
     "execution_count": 68,
     "metadata": {},
     "output_type": "execute_result"
    }
   ],
   "source": [
    "lista.insert(1,\"Romênia\") # Insere no indice sem sobreecrever o valor anterior\n",
    "lista # Japão agora é ix 2"
   ]
  },
  {
   "cell_type": "code",
   "execution_count": 49,
   "id": "aca44847",
   "metadata": {},
   "outputs": [
    {
     "name": "stdout",
     "output_type": "stream",
     "text": [
      "Antes:  ['Brazil', 'Japão', 'Itália', 'Bósnia Herzegovina', 'México', 'Camarões']\n",
      "Depois: ['Brazil', 'Japão', 'Itália', 'México', 'Camarões']\n",
      "Uzb:    ['Brazil', 'Japão', 'Itália', 'Uzbesquistão! Seé-Loko-Tio', 'México', 'Camarões']\n",
      "Final:  ['Brazil', 'Japão', 'Itália', 'México', 'Camarões']\n"
     ]
    }
   ],
   "source": [
    "lista.insert(3,\"Bósnia Herzegovina\") # Insere no indice sem sobreecrever o valor anterior\n",
    "print(\"Antes: \", lista)\n",
    "#Remove:\n",
    "lista.remove(\"Bósnia Herzegovina\") # parametro: elemento\n",
    "print(\"Depois:\", lista)\n",
    "lista.insert(3,\"Uzbesquistão! Seé-Loko-Tio\") # \n",
    "print(\"Uzb:   \", lista)\n",
    "#Remove POP:\n",
    "lista.pop(3) # param: ix\n",
    "print(\"Final: \", lista)"
   ]
  },
  {
   "cell_type": "code",
   "execution_count": 50,
   "id": "64ea6571",
   "metadata": {},
   "outputs": [
    {
     "data": {
      "text/plain": [
       "['Brazil', 'Japão', 'Itália', 'México', 'Camarões']"
      ]
     },
     "execution_count": 50,
     "metadata": {},
     "output_type": "execute_result"
    }
   ],
   "source": [
    "lista"
   ]
  },
  {
   "cell_type": "markdown",
   "id": "cd77707c",
   "metadata": {},
   "source": [
    "## Unpacking"
   ]
  },
  {
   "cell_type": "code",
   "execution_count": 71,
   "id": "3563a8da",
   "metadata": {},
   "outputs": [],
   "source": [
    "b, r, j, i, m, c, g = lista # Precisa que todos os elementos casem com a qtd de variavies, caso não da erro"
   ]
  },
  {
   "cell_type": "code",
   "execution_count": 72,
   "id": "945380c2",
   "metadata": {},
   "outputs": [
    {
     "name": "stdout",
     "output_type": "stream",
     "text": [
      "Brazil x Camarões\n"
     ]
    }
   ],
   "source": [
    "print (b + \" x \"+ c)"
   ]
  },
  {
   "cell_type": "code",
   "execution_count": 73,
   "id": "48839c14",
   "metadata": {},
   "outputs": [
    {
     "data": {
      "text/plain": [
       "tuple"
      ]
     },
     "execution_count": 73,
     "metadata": {},
     "output_type": "execute_result"
    }
   ],
   "source": [
    "type((b, c))"
   ]
  },
  {
   "cell_type": "markdown",
   "id": "0ca42876",
   "metadata": {},
   "source": [
    "## Tuplas"
   ]
  },
  {
   "cell_type": "code",
   "execution_count": 74,
   "id": "fe3b5e9c",
   "metadata": {},
   "outputs": [
    {
     "data": {
      "text/plain": [
       "('Brazil', 'Japão', 'Itália', 'México')"
      ]
     },
     "execution_count": 74,
     "metadata": {},
     "output_type": "execute_result"
    }
   ],
   "source": [
    "tupla"
   ]
  },
  {
   "cell_type": "code",
   "execution_count": 75,
   "id": "0659fa2a",
   "metadata": {},
   "outputs": [
    {
     "data": {
      "text/plain": [
       "'Brazil'"
      ]
     },
     "execution_count": 75,
     "metadata": {},
     "output_type": "execute_result"
    }
   ],
   "source": [
    "tupla[0]"
   ]
  },
  {
   "cell_type": "code",
   "execution_count": 76,
   "id": "6f005ed5",
   "metadata": {},
   "outputs": [
    {
     "data": {
      "text/plain": [
       "'México'"
      ]
     },
     "execution_count": 76,
     "metadata": {},
     "output_type": "execute_result"
    }
   ],
   "source": [
    "tupla[-1]"
   ]
  },
  {
   "cell_type": "code",
   "execution_count": 77,
   "id": "b7c4f2e6",
   "metadata": {},
   "outputs": [
    {
     "data": {
      "text/plain": [
       "('Brazil', 'Japão')"
      ]
     },
     "execution_count": 77,
     "metadata": {},
     "output_type": "execute_result"
    }
   ],
   "source": [
    "tupla[0:2] # Slice"
   ]
  },
  {
   "cell_type": "code",
   "execution_count": 78,
   "id": "1022e29c",
   "metadata": {},
   "outputs": [
    {
     "data": {
      "text/plain": [
       "('México', 'Itália', 'Japão', 'Brazil')"
      ]
     },
     "execution_count": 78,
     "metadata": {},
     "output_type": "execute_result"
    }
   ],
   "source": [
    "tupla[::-1] # Inversa"
   ]
  },
  {
   "cell_type": "code",
   "execution_count": 93,
   "id": "a2561043",
   "metadata": {},
   "outputs": [
    {
     "name": "stdout",
     "output_type": "stream",
     "text": [
      "Itália x México\n"
     ]
    }
   ],
   "source": [
    "b, j, i, m = tupla\n",
    "print(i + \" x \" + m)"
   ]
  },
  {
   "cell_type": "code",
   "execution_count": 94,
   "id": "dff2acc7",
   "metadata": {},
   "outputs": [
    {
     "name": "stdout",
     "output_type": "stream",
     "text": [
      "Brazil Japão Itália México\n",
      "Brazil Romênia Japão Itália México Camarões Grécia\n"
     ]
    },
    {
     "data": {
      "text/plain": [
       "NoneType"
      ]
     },
     "execution_count": 94,
     "metadata": {},
     "output_type": "execute_result"
    }
   ],
   "source": [
    "print(*tupla)\n",
    "v = print(*lista)\n",
    "type(v)"
   ]
  }
 ],
 "metadata": {
  "kernelspec": {
   "display_name": "Python 3 (ipykernel)",
   "language": "python",
   "name": "python3"
  },
  "language_info": {
   "codemirror_mode": {
    "name": "ipython",
    "version": 3
   },
   "file_extension": ".py",
   "mimetype": "text/x-python",
   "name": "python",
   "nbconvert_exporter": "python",
   "pygments_lexer": "ipython3",
   "version": "3.9.12"
  },
  "vscode": {
   "interpreter": {
    "hash": "f38737023fdd18a0f3e18b5b6728da12ca7c2c10f123c3370e824edde29d49fa"
   }
  }
 },
 "nbformat": 4,
 "nbformat_minor": 5
}
