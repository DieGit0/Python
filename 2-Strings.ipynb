{
 "cells": [
  {
   "cell_type": "markdown",
   "id": "0ef66a22",
   "metadata": {},
   "source": [
    "# Strings"
   ]
  },
  {
   "cell_type": "code",
   "execution_count": null,
   "id": "8216c1d8",
   "metadata": {},
   "outputs": [],
   "source": [
    "empresa = \"Let's Code\""
   ]
  },
  {
   "cell_type": "code",
   "execution_count": null,
   "id": "767b5352",
   "metadata": {},
   "outputs": [],
   "source": [
    "empresa"
   ]
  },
  {
   "cell_type": "code",
   "execution_count": null,
   "id": "f489519d",
   "metadata": {},
   "outputs": [],
   "source": [
    "# Caracter de Scape"
   ]
  },
  {
   "cell_type": "code",
   "execution_count": null,
   "id": "256d7b46",
   "metadata": {},
   "outputs": [],
   "source": [
    "frase = \"O prof da Let's Code disse: \\\"Hoje a pizza é por minha conta\\\"\""
   ]
  },
  {
   "cell_type": "code",
   "execution_count": null,
   "id": "378d2502",
   "metadata": {},
   "outputs": [],
   "source": [
    "print(frase)"
   ]
  },
  {
   "cell_type": "code",
   "execution_count": null,
   "id": "486654c1",
   "metadata": {},
   "outputs": [],
   "source": [
    "frase = \"\\nO prof da Let's Code disse: \\\"Hoje a pizza é por minha conta\\\"\"\n",
    "print(frase)"
   ]
  },
  {
   "cell_type": "code",
   "execution_count": null,
   "id": "658a0eae",
   "metadata": {},
   "outputs": [],
   "source": [
    "frase = \"\\tO prof da Let's Code disse: \\\"Hoje a pizza é por minha conta\\\"\"\n",
    "print(frase)"
   ]
  },
  {
   "cell_type": "code",
   "execution_count": null,
   "id": "8584c042",
   "metadata": {},
   "outputs": [],
   "source": [
    "print(*frase)"
   ]
  },
  {
   "cell_type": "markdown",
   "id": "9f9e66c1",
   "metadata": {},
   "source": [
    "# Split"
   ]
  },
  {
   "cell_type": "code",
   "execution_count": null,
   "id": "4f18184f",
   "metadata": {},
   "outputs": [],
   "source": [
    "nome_cidades = \"São Paulo, Belo Horizonte, Rio de Janeiro, Brasília\""
   ]
  },
  {
   "cell_type": "code",
   "execution_count": null,
   "id": "a6b97ce1",
   "metadata": {},
   "outputs": [],
   "source": [
    "# caracter padrao é o espaco ' '\n",
    "nome_cidades = nome_cidades.split(',')"
   ]
  },
  {
   "cell_type": "code",
   "execution_count": null,
   "id": "6dc8d9ee",
   "metadata": {},
   "outputs": [],
   "source": [
    "nome_cidades"
   ]
  },
  {
   "cell_type": "code",
   "execution_count": null,
   "id": "d498476b",
   "metadata": {},
   "outputs": [],
   "source": [
    "nome_cidades[0] + nome_cidades[-1]"
   ]
  },
  {
   "cell_type": "markdown",
   "id": "ed5cbe94",
   "metadata": {},
   "source": [
    "# Strip"
   ]
  },
  {
   "cell_type": "code",
   "execution_count": null,
   "id": "2e898e68",
   "metadata": {},
   "outputs": [],
   "source": [
    "# Retira espaços\n",
    "cabecalho = \"     CABEÇALHO     \"\n",
    "print(cabecalho)"
   ]
  },
  {
   "cell_type": "code",
   "execution_count": null,
   "id": "7f84f861",
   "metadata": {},
   "outputs": [],
   "source": [
    "cabecalho.strip()"
   ]
  },
  {
   "cell_type": "markdown",
   "id": "38b53958",
   "metadata": {},
   "source": [
    "# Formatação "
   ]
  },
  {
   "cell_type": "code",
   "execution_count": null,
   "id": "220ae3df",
   "metadata": {},
   "outputs": [],
   "source": [
    "cidade = \"rIo dE jAnEiRo\"\n",
    "print(cidade.title())\n",
    "print(cidade.capitalize())\n",
    "print(cidade.upper())\n",
    "print(cidade.lower())"
   ]
  },
  {
   "cell_type": "code",
   "execution_count": 3,
   "id": "3033e713",
   "metadata": {},
   "outputs": [
    {
     "name": "stdout",
     "output_type": "stream",
     "text": [
      "Que cidade do Br é conhecida como Cidade do Tráfico de Dorgas: rio de fff\n",
      "Ops, erroouu, tente novamente: s/n: s\n",
      "Que cidade do Br é conhecida como Cidade do Tráfico de Dorgas: fdfdfdfdfd\n",
      "Ops, erroouu, tente novamente: s/n: s\n",
      "Que cidade do Br é conhecida como Cidade do Tráfico de Dorgas: fdfdfdfdfwq\n",
      "Ops, erroouu, tente novamente: s/n: n\n"
     ]
    }
   ],
   "source": [
    "cidade = \"\"\n",
    "op = \"\"\n",
    "while cidade != \"rio de janeiro\" and op != 'n':\n",
    "    cidade = input(\"Que cidade do Br é conhecida como Cidade do Tráfico de Dorgas: \")\n",
    "    cidade = cidade.strip()\n",
    "    cidade = cidade.lower()\n",
    "    #print(cidade)\n",
    "    if cidade == \"rio de janeiro\":\n",
    "        print(\"Tu ta ixpertu hein mallan ;)\")\n",
    "        break\n",
    "    else:\n",
    "        op = input(\"Ops, erroouu, tente novamente: s/n: \")   \n",
    "        #print(type(op))"
   ]
  },
  {
   "cell_type": "code",
   "execution_count": 3,
   "id": "34fb6840",
   "metadata": {},
   "outputs": [
    {
     "data": {
      "text/plain": [
       "True"
      ]
     },
     "execution_count": 3,
     "metadata": {},
     "output_type": "execute_result"
    }
   ],
   "source": [
    "msg = \"Vc viu o que o Pietro disse ontem na sala?\"\n",
    "msg = msg.lower()\n",
    "\"Pietro\".lower() in msg "
   ]
  },
  {
   "cell_type": "code",
   "execution_count": null,
   "id": "59858f38",
   "metadata": {},
   "outputs": [],
   "source": []
  }
 ],
 "metadata": {
  "kernelspec": {
   "display_name": "Python 3.10.4 64-bit",
   "language": "python",
   "name": "python3"
  },
  "language_info": {
   "codemirror_mode": {
    "name": "ipython",
    "version": 3
   },
   "file_extension": ".py",
   "mimetype": "text/x-python",
   "name": "python",
   "nbconvert_exporter": "python",
   "pygments_lexer": "ipython3",
   "version": "3.10.4"
  },
  "vscode": {
   "interpreter": {
    "hash": "f38737023fdd18a0f3e18b5b6728da12ca7c2c10f123c3370e824edde29d49fa"
   }
  }
 },
 "nbformat": 4,
 "nbformat_minor": 5
}
