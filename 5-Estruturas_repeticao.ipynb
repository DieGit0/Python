{
 "cells": [
  {
   "cell_type": "markdown",
   "id": "92e28c75",
   "metadata": {},
   "source": [
    "# For"
   ]
  },
  {
   "cell_type": "code",
   "execution_count": null,
   "id": "5a8bb7cf",
   "metadata": {},
   "outputs": [],
   "source": [
    "cidades = [\"Amsterdam\", \"Paris\", \"Bucarest\", \"Roma\", \"Glasgow\" ]"
   ]
  },
  {
   "cell_type": "code",
   "execution_count": null,
   "id": "44647742",
   "metadata": {},
   "outputs": [],
   "source": [
    "for c in cidades:\n",
    "    print(c)"
   ]
  },
  {
   "cell_type": "code",
   "execution_count": 4,
   "id": "e088909b",
   "metadata": {},
   "outputs": [
    {
     "ename": "SyntaxError",
     "evalue": "invalid syntax (2771780593.py, line 1)",
     "output_type": "error",
     "traceback": [
      "\u001b[1;36m  Input \u001b[1;32mIn [4]\u001b[1;36m\u001b[0m\n\u001b[1;33m    for (i=0; i<len(cidades); i=i+1):\u001b[0m\n\u001b[1;37m          ^\u001b[0m\n\u001b[1;31mSyntaxError\u001b[0m\u001b[1;31m:\u001b[0m invalid syntax\n"
     ]
    }
   ],
   "source": [
    "for (i=0; i<len(cidades); i=i+1):\n",
    "    print(cidades[i])"
   ]
  },
  {
   "cell_type": "code",
   "execution_count": 2,
   "id": "56d61571",
   "metadata": {},
   "outputs": [
    {
     "name": "stdout",
     "output_type": "stream",
     "text": [
      "Amsterdam\n",
      "Paris\n",
      "Bucarest\n",
      "Roma\n",
      "Glasgow\n",
      "5\n"
     ]
    }
   ],
   "source": [
    "cidades = [\"Amsterdam\", \"Paris\", \"Bucarest\", \"Roma\", \"Glasgow\" ]\n",
    "i = 0\n",
    "while i < len(cidades):\n",
    "    print(cidades[i])\n",
    "    i = i+1\n",
    "print(i)"
   ]
  },
  {
   "cell_type": "code",
   "execution_count": 2,
   "id": "7af5af41",
   "metadata": {},
   "outputs": [],
   "source": [
    "cidade = {\n",
    "    \"nome\":\"Santos\",\n",
    "    \"estado\":\"São Paulo\",\n",
    "    \"populacao\":7\n",
    "}"
   ]
  },
  {
   "cell_type": "code",
   "execution_count": 3,
   "id": "7c66168e",
   "metadata": {},
   "outputs": [
    {
     "data": {
      "text/plain": [
       "dict"
      ]
     },
     "execution_count": 3,
     "metadata": {},
     "output_type": "execute_result"
    }
   ],
   "source": [
    "type(cidade)"
   ]
  },
  {
   "cell_type": "code",
   "execution_count": 4,
   "id": "4f703aba",
   "metadata": {},
   "outputs": [
    {
     "data": {
      "text/plain": [
       "{'nome': 'Santos', 'estado': 'São Paulo', 'populacao': 7}"
      ]
     },
     "execution_count": 4,
     "metadata": {},
     "output_type": "execute_result"
    }
   ],
   "source": [
    "cidade"
   ]
  },
  {
   "cell_type": "code",
   "execution_count": 15,
   "id": "f2fa0283",
   "metadata": {},
   "outputs": [
    {
     "name": "stdout",
     "output_type": "stream",
     "text": [
      "Santos\n",
      "São Paulo\n",
      "7\n"
     ]
    }
   ],
   "source": [
    "for key in cidade:\n",
    "    print(cidade[key])"
   ]
  },
  {
   "cell_type": "code",
   "execution_count": 17,
   "id": "ed992769",
   "metadata": {},
   "outputs": [
    {
     "name": "stdout",
     "output_type": "stream",
     "text": [
      "nome: Santos\n",
      "estado: São Paulo\n",
      "populacao: 7\n"
     ]
    }
   ],
   "source": [
    "for key in cidade:\n",
    "    print(f'{key}: {cidade[key]}')"
   ]
  },
  {
   "cell_type": "code",
   "execution_count": 27,
   "id": "1093b863",
   "metadata": {},
   "outputs": [
    {
     "data": {
      "text/plain": [
       "['Barcelona', 'Barcelona', 'Barcelona', 'Barcelona', 'Barcelona']"
      ]
     },
     "execution_count": 27,
     "metadata": {},
     "output_type": "execute_result"
    }
   ],
   "source": [
    "for i in range(len(cidades)):\n",
    "    cidades[i] = \"Barcelona\"\n",
    "cidades"
   ]
  },
  {
   "cell_type": "code",
   "execution_count": 33,
   "id": "3bee2e49",
   "metadata": {},
   "outputs": [
    {
     "name": "stdout",
     "output_type": "stream",
     "text": [
      "[0, 1, 2, 3, 4, 5, 6, 7, 8, 9]\n",
      "[2, 3, 4, 5, 6, 7, 8, 9]\n",
      "[2, 4, 6, 8]\n"
     ]
    }
   ],
   "source": [
    "print(list(range(10))) # (0,10-1)\n",
    "print(list(range(2,10))) # (2,10-1)\n",
    "print(list(range(2,10,2))) # (2,n+2,10-1)"
   ]
  },
  {
   "cell_type": "code",
   "execution_count": null,
   "id": "ad0c1a77",
   "metadata": {},
   "outputs": [],
   "source": []
  }
 ],
 "metadata": {
  "kernelspec": {
   "display_name": "Python 3 (ipykernel)",
   "language": "python",
   "name": "python3"
  },
  "language_info": {
   "codemirror_mode": {
    "name": "ipython",
    "version": 3
   },
   "file_extension": ".py",
   "mimetype": "text/x-python",
   "name": "python",
   "nbconvert_exporter": "python",
   "pygments_lexer": "ipython3",
   "version": "3.9.12"
  },
  "vscode": {
   "interpreter": {
    "hash": "77ec20f8f3735d78d7b87bcd7dbe6cd652e88ff12f7e716668843e2e5c7a8eed"
   }
  }
 },
 "nbformat": 4,
 "nbformat_minor": 5
}
