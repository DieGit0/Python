{
 "cells": [
  {
   "cell_type": "code",
   "execution_count": 1,
   "id": "36c4dbe0",
   "metadata": {},
   "outputs": [],
   "source": [
    "def media(v1, v2, v3):\n",
    "    s = v1 + v2 + v3\n",
    "    m = s / 3\n",
    "    return m"
   ]
  },
  {
   "cell_type": "code",
   "execution_count": 3,
   "id": "c91a9d5c",
   "metadata": {},
   "outputs": [
    {
     "data": {
      "text/plain": [
       "10.0"
      ]
     },
     "execution_count": 3,
     "metadata": {},
     "output_type": "execute_result"
    }
   ],
   "source": [
    "media (10, 10, 10)"
   ]
  },
  {
   "cell_type": "code",
   "execution_count": 4,
   "id": "ea087f51",
   "metadata": {},
   "outputs": [],
   "source": [
    "def media(*args):\n",
    "    print(args, type(args))"
   ]
  },
  {
   "cell_type": "code",
   "execution_count": 8,
   "id": "640cde3e",
   "metadata": {},
   "outputs": [
    {
     "name": "stdout",
     "output_type": "stream",
     "text": [
      "(1, 2, 3) <class 'tuple'>\n"
     ]
    }
   ],
   "source": [
    "media (1, 2, 3)"
   ]
  },
  {
   "cell_type": "code",
   "execution_count": 10,
   "id": "acc6a224",
   "metadata": {},
   "outputs": [],
   "source": [
    "def media(*args):\n",
    "    s = sum(args)\n",
    "    m = s / len(args)\n",
    "    return m"
   ]
  },
  {
   "cell_type": "code",
   "execution_count": 11,
   "id": "e30d4668",
   "metadata": {},
   "outputs": [
    {
     "data": {
      "text/plain": [
       "10.0"
      ]
     },
     "execution_count": 11,
     "metadata": {},
     "output_type": "execute_result"
    }
   ],
   "source": [
    "media (10, 10, 10)"
   ]
  },
  {
   "cell_type": "code",
   "execution_count": 13,
   "id": "d54c3ba8",
   "metadata": {},
   "outputs": [
    {
     "data": {
      "text/plain": [
       "20"
      ]
     },
     "execution_count": 13,
     "metadata": {},
     "output_type": "execute_result"
    }
   ],
   "source": [
    "sum ([10,2,8])"
   ]
  },
  {
   "cell_type": "code",
   "execution_count": 15,
   "id": "bdfe621b",
   "metadata": {},
   "outputs": [
    {
     "data": {
      "text/plain": [
       "20"
      ]
     },
     "execution_count": 15,
     "metadata": {},
     "output_type": "execute_result"
    }
   ],
   "source": [
    "sum ((10,2,8))"
   ]
  },
  {
   "cell_type": "code",
   "execution_count": 16,
   "id": "14e05b11",
   "metadata": {},
   "outputs": [],
   "source": [
    "def media(*args, margem=0): # *args é mapeado para uma Tupla\n",
    "    s = sum(args)\n",
    "    m = s / len(args)\n",
    "    return m + margem"
   ]
  },
  {
   "cell_type": "code",
   "execution_count": 20,
   "id": "b34d8fb8",
   "metadata": {},
   "outputs": [
    {
     "data": {
      "text/plain": [
       "10.3"
      ]
     },
     "execution_count": 20,
     "metadata": {},
     "output_type": "execute_result"
    }
   ],
   "source": [
    "media (10, 10, 10, margem=0.3)"
   ]
  },
  {
   "cell_type": "markdown",
   "id": "1c9b6d73",
   "metadata": {},
   "source": [
    "# Key Word Args"
   ]
  },
  {
   "cell_type": "code",
   "execution_count": 29,
   "id": "e17a440c",
   "metadata": {},
   "outputs": [],
   "source": [
    "def print_info(**kwargs): # *kwargs é mapeado para um Dict\n",
    "    print(kwargs, type(kwargs))"
   ]
  },
  {
   "cell_type": "code",
   "execution_count": 30,
   "id": "1299d4cc",
   "metadata": {},
   "outputs": [
    {
     "name": "stdout",
     "output_type": "stream",
     "text": [
      "{} <class 'dict'>\n"
     ]
    }
   ],
   "source": [
    "print_info()"
   ]
  },
  {
   "cell_type": "code",
   "execution_count": 31,
   "id": "b5767fa4",
   "metadata": {},
   "outputs": [
    {
     "name": "stdout",
     "output_type": "stream",
     "text": [
      "{'name': 'Mick', 'surname': 'Jagger'} <class 'dict'>\n"
     ]
    }
   ],
   "source": [
    "print_info(name=\"Mick\", surname = \"Jagger\")"
   ]
  },
  {
   "cell_type": "code",
   "execution_count": null,
   "id": "1d335182",
   "metadata": {},
   "outputs": [],
   "source": []
  }
 ],
 "metadata": {
  "kernelspec": {
   "display_name": "Python 3 (ipykernel)",
   "language": "python",
   "name": "python3"
  },
  "language_info": {
   "codemirror_mode": {
    "name": "ipython",
    "version": 3
   },
   "file_extension": ".py",
   "mimetype": "text/x-python",
   "name": "python",
   "nbconvert_exporter": "python",
   "pygments_lexer": "ipython3",
   "version": "3.9.12"
  }
 },
 "nbformat": 4,
 "nbformat_minor": 5
}
