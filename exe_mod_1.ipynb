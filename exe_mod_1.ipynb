{
 "cells": [
  {
   "cell_type": "markdown",
   "id": "5dd18f42",
   "metadata": {},
   "source": [
    "## Exercícios Módulo 1 - Python"
   ]
  },
  {
   "cell_type": "markdown",
   "id": "e70fd869",
   "metadata": {},
   "source": [
    "1. Faça um programa que peça um valor monetário e diminua-o em 15%. Seu \n",
    "programa deve imprimir a mensagem “O novo valor é [valor]”."
   ]
  },
  {
   "cell_type": "code",
   "execution_count": null,
   "id": "942f90b6",
   "metadata": {},
   "outputs": [],
   "source": [
    "# uso essa função na maioria das funções abaixo\n",
    "def line():\n",
    "    print(\"=====================================================\")"
   ]
  },
  {
   "cell_type": "code",
   "execution_count": null,
   "id": "2c3db6bb",
   "metadata": {},
   "outputs": [],
   "source": [
    "valor = input(\"Digite um valor: \")\n",
    "valor = float(valor)\n",
    "print(\"=====================================================\")\n",
    "print(f\"O novo valor é {(valor * 85/100):.2f}\" )\n",
    "print(\"=====================================================\")\n",
    "print(\"Novo valor com desconto de 15%: R$ {:.2f}\".format(valor * 85/100) )\n",
    "print(\"=====================================================\")\n",
    "print(\"Valor inicial R$ {:.2f}\\nNovo valor com desconto de 15%: R$ {:.2f}\".format(valor, (valor * 85/100)) )\n",
    "print(\"=====================================================\")"
   ]
  },
  {
   "cell_type": "markdown",
   "id": "ca26be3d",
   "metadata": {},
   "source": [
    "2. Faça um programa que leia a validade das informações: <br>\n",
    "<ul>\n",
    "<li> a. Idade: entre 0 e 150 </li>\n",
    "<li> b. Salário: maior que 0 </li>\n",
    "<li> c. Sexo: M, F ou Outro  </li>\n",
    "</ul>\n",
    "<br>\n",
    "O programa deve imprimir uma mensagem de erro para cada informação \n",
    "inválida"
   ]
  },
  {
   "cell_type": "code",
   "execution_count": null,
   "id": "6da51b84",
   "metadata": {},
   "outputs": [],
   "source": [
    "idade = input(\"Idade: \")\n",
    "sal =   input(\"Salário: \")\n",
    "sex =   input(\"Sexo: \")\n",
    "\n",
    "idade = int(idade)\n",
    "sal   = float(sal)\n",
    "sex   = sex.upper()\n",
    "\n",
    "if not (0 < idade <= 150):\n",
    "    line()\n",
    "    print(\"** A idade deve estar entre 0 e 150\")\n",
    "if sal <= 0:\n",
    "    line()\n",
    "    print(\"** Salário maior que zero né?!\")\n",
    "if sex not in [\"M\",\"F\",\"OUTRO\"]:\n",
    "    line()\n",
    "    print(\"** Secçu dus anju?\")\n",
    "line()\n",
    "\n",
    "print(\"Idade: {}\\nSalário: R$ {:.2f}\\nSexo: {}\".format(idade, sal, sex))\n"
   ]
  },
  {
   "cell_type": "markdown",
   "id": "597e33ba",
   "metadata": {},
   "source": [
    "#### Versão 2 com Dicionários - Just for fun"
   ]
  },
  {
   "cell_type": "code",
   "execution_count": null,
   "id": "66558352",
   "metadata": {},
   "outputs": [],
   "source": [
    "idade = input(\"Idade: \")\n",
    "sal =   input(\"Salário: \")\n",
    "sex =   input(\"Sexo: \")\n",
    "\n",
    "idade = int(idade)\n",
    "sal =   float(sal)\n",
    "sex = sex.upper()\n",
    "\n",
    "# Dicionário cujo valor retorna um booleano\n",
    "resp = {1: (0 < idade <= 150),\n",
    "        2: sal > 0,\n",
    "        3: sex in [\"M\",\"F\",\"OUTRO\"]\n",
    "       }\n",
    "# msgs de erro para cada resposta \n",
    "erro = {1: (\"** Idade deve estar entre 1 e 150 anos\"),\n",
    "        2: (\"** Salário deve ser maior que zero\"),\n",
    "        3: (\"** Sexo inválido\")\n",
    "       }\n",
    "\n",
    "line()\n",
    "\n",
    "i = 1\n",
    "for k in resp:\n",
    "    #print(k, resp[k])\n",
    "    if i == 1 and not resp[k]: print(erro[i]); i= i+1; continue\n",
    "    if i == 2 and not resp[k]: print(erro[i]); i= i+1; continue\n",
    "    if i == 3 and not resp[k]: print(erro[i]); i= i+1; continue\n",
    "\n",
    "if (resp[1] and resp[2] and resp[3]):\n",
    "    print(\"Idade: {}\\nSalário: R$ {:.2f}\\nSexo: {}\".format(idade, sal, sex))\n",
    "    \n",
    "line()"
   ]
  },
  {
   "cell_type": "markdown",
   "id": "0807dacb",
   "metadata": {},
   "source": [
    "3. Vamos fazer um programa para verificar quem é o assassino de um crime. \n",
    "Para descobrir o assassino, a polícia faz um pequeno questionário com 5 \n",
    "perguntas onde a resposta só pode ser sim ou não:<p>\n",
    "<ol type=\"a\">\n",
    "     <li> \"Mora perto da vítima?\"      </li>\n",
    "     <li> \"Já trabalhou com a vítima?\" </li>\n",
    "     <li> \"Telefonou para a vítima? \"  </li>\n",
    "     <li> \"Esteve no local do crime?\"  </li>\n",
    "     <li> \"Devia para a vítima?\"       </li>\n",
    "</ol>\n",
    "<br>\n",
    "Cada resposta sim dá um ponto para o suspeito. A polícia considera que os \n",
    "suspeitos com 5 pontos são os assassinos, com 4 a 3 pontos são cúmplices e \n",
    "2 pontos são apenas suspeitos, necessitando outras investigações. Valores \n",
    "iguais ou abaixo de 1 são liberados."
   ]
  },
  {
   "cell_type": "code",
   "execution_count": null,
   "id": "f6e3fd42",
   "metadata": {
    "scrolled": true
   },
   "outputs": [],
   "source": [
    "pergs = [ \"Mora perto da vítima?\"\n",
    "         ,\"Já trabalhou com a vítima?\"\n",
    "         ,\"Telefonou para a vítima? \"\n",
    "         ,\"Esteve no local do crime?\"\n",
    "         ,\"Devia para a vítima?\"]\n",
    "\n",
    "r = []\n",
    "for p in pergs:\n",
    "    r.append(input(p).lower())\n",
    "\n",
    "res = (r.count('sim'))\n",
    "\n",
    "def seuPuliça(res):\n",
    "    if res == 5:\n",
    "        return \"Cereal Killer\"\n",
    "    elif res in [4,3]:\n",
    "        return \"Cúmplice de um resgate\"\n",
    "    elif res == 2:\n",
    "        return \"Suspeito hein! to de olho..\"\n",
    "    else: \n",
    "        return \"Tá liberado mallan\"\n",
    "line()\n",
    "print(seuPuliça(res))\n",
    "line()\n",
    "\n",
    "# help() -- Welcome to Python 3.9's help utility, ** match somente na versão 10\n",
    "''' \n",
    "match res:\n",
    "    case 5: \n",
    "        return \"Cereal Killer\"\n",
    "    case 4 | 3: \n",
    "        return \"Cúmplice de um resgate\"\n",
    "    case 2: \n",
    "        return \"Suspeito! to de olho..\"\n",
    "    case _: \n",
    "        return \"Tá liberado mallan\"\n",
    "'''"
   ]
  },
  {
   "cell_type": "markdown",
   "id": "8f2548e2",
   "metadata": {},
   "source": [
    "4. Faça um programa que imprima a tabuada do 9 (de 9 * 1 a 9 * 10) usando loops."
   ]
  },
  {
   "cell_type": "code",
   "execution_count": 4,
   "id": "485f3b40",
   "metadata": {},
   "outputs": [
    {
     "name": "stdout",
     "output_type": "stream",
     "text": [
      "Tabuada do?10\n",
      "10 x 1 = 10\n",
      "10 x 2 = 20\n",
      "10 x 3 = 30\n",
      "10 x 4 = 40\n",
      "10 x 5 = 50\n",
      "10 x 6 = 60\n",
      "10 x 7 = 70\n",
      "10 x 8 = 80\n",
      "10 x 9 = 90\n",
      "10 x 10 = 100\n"
     ]
    }
   ],
   "source": [
    "def tab(n):\n",
    "    for i in list(range(1,11)):\n",
    "        print(f\"{n} x {i} = {n*i}\")\n",
    "        \n",
    "num = input(\"Tabuada do?\")\n",
    "num = int(num)\n",
    "tab(n=num)\n"
   ]
  },
  {
   "cell_type": "code",
   "execution_count": 6,
   "id": "de6ba5d5",
   "metadata": {},
   "outputs": [
    {
     "data": {
      "text/plain": [
       "'9 x 5 = 45'"
      ]
     },
     "execution_count": 6,
     "metadata": {},
     "output_type": "execute_result"
    }
   ],
   "source": [
    "i= 5\n",
    "f\"9 x {i} = {9*i}\""
   ]
  },
  {
   "cell_type": "code",
   "execution_count": 8,
   "id": "7742fb60",
   "metadata": {},
   "outputs": [
    {
     "data": {
      "text/plain": [
       "'AAAAA'"
      ]
     },
     "execution_count": 8,
     "metadata": {},
     "output_type": "execute_result"
    }
   ],
   "source": [
    "'A'* 5\n"
   ]
  },
  {
   "cell_type": "code",
   "execution_count": null,
   "id": "030e81af",
   "metadata": {},
   "outputs": [],
   "source": []
  }
 ],
 "metadata": {
  "kernelspec": {
   "display_name": "Python 3 (ipykernel)",
   "language": "python",
   "name": "python3"
  },
  "language_info": {
   "codemirror_mode": {
    "name": "ipython",
    "version": 3
   },
   "file_extension": ".py",
   "mimetype": "text/x-python",
   "name": "python",
   "nbconvert_exporter": "python",
   "pygments_lexer": "ipython3",
   "version": "3.9.12"
  }
 },
 "nbformat": 4,
 "nbformat_minor": 5
}
