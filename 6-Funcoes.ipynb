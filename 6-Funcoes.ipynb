{
 "cells": [
  {
   "cell_type": "markdown",
   "id": "70895257",
   "metadata": {},
   "source": [
    "# Funcoes"
   ]
  },
  {
   "cell_type": "code",
   "execution_count": 4,
   "id": "bc45791e",
   "metadata": {},
   "outputs": [],
   "source": [
    "def func(param):\n",
    "    print(param)"
   ]
  },
  {
   "cell_type": "code",
   "execution_count": 6,
   "id": "a02baf96",
   "metadata": {},
   "outputs": [
    {
     "name": "stdout",
     "output_type": "stream",
     "text": [
      "Olá\n"
     ]
    }
   ],
   "source": [
    "func(\"Olá\")"
   ]
  },
  {
   "cell_type": "code",
   "execution_count": 10,
   "id": "5be9ab10",
   "metadata": {},
   "outputs": [],
   "source": [
    "def media(v1,v2,v3):\n",
    "    total = v1+v2+v3\n",
    "    m = total / 3\n",
    "    return m"
   ]
  },
  {
   "cell_type": "code",
   "execution_count": 15,
   "id": "5daa7c98",
   "metadata": {},
   "outputs": [
    {
     "data": {
      "text/plain": [
       "10.0"
      ]
     },
     "execution_count": 15,
     "metadata": {},
     "output_type": "execute_result"
    }
   ],
   "source": [
    "media(5,8,17)"
   ]
  },
  {
   "cell_type": "code",
   "execution_count": 17,
   "id": "8504d924",
   "metadata": {},
   "outputs": [
    {
     "data": {
      "text/plain": [
       "10.0"
      ]
     },
     "execution_count": 17,
     "metadata": {},
     "output_type": "execute_result"
    }
   ],
   "source": [
    "resultado = media(v1=5, v2=8, v3=17)\n",
    "resultado"
   ]
  },
  {
   "cell_type": "code",
   "execution_count": 19,
   "id": "01686044",
   "metadata": {},
   "outputs": [
    {
     "name": "stdout",
     "output_type": "stream",
     "text": [
      "Olá, Pythoon\n"
     ]
    }
   ],
   "source": [
    "print(\"Olá, \", end= '')\n",
    "print(\"Pythoon\")"
   ]
  },
  {
   "cell_type": "markdown",
   "id": "38360034",
   "metadata": {},
   "source": [
    "# Valores Default"
   ]
  },
  {
   "cell_type": "code",
   "execution_count": 23,
   "id": "41a91c4c",
   "metadata": {},
   "outputs": [
    {
     "name": "stdout",
     "output_type": "stream",
     "text": [
      "0 1 10\n"
     ]
    }
   ],
   "source": [
    "def f(v1=0,v2=1,v3=10):\n",
    "    print(v1,v2,v3)\n",
    "f()"
   ]
  },
  {
   "cell_type": "code",
   "execution_count": null,
   "id": "747ddf5c",
   "metadata": {},
   "outputs": [],
   "source": []
  }
 ],
 "metadata": {
  "kernelspec": {
   "display_name": "Python 3.10.7 64-bit (microsoft store)",
   "language": "python",
   "name": "python3"
  },
  "language_info": {
   "codemirror_mode": {
    "name": "ipython",
    "version": 3
   },
   "file_extension": ".py",
   "mimetype": "text/x-python",
   "name": "python",
   "nbconvert_exporter": "python",
   "pygments_lexer": "ipython3",
   "version": "3.10.7"
  },
  "vscode": {
   "interpreter": {
    "hash": "77ec20f8f3735d78d7b87bcd7dbe6cd652e88ff12f7e716668843e2e5c7a8eed"
   }
  }
 },
 "nbformat": 4,
 "nbformat_minor": 5
}
