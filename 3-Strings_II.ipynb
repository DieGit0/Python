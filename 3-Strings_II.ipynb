{
 "cells": [
  {
   "cell_type": "code",
   "execution_count": 7,
   "metadata": {},
   "outputs": [
    {
     "name": "stdout",
     "output_type": "stream",
     "text": [
      "Olá,  Bilau\n",
      "Olá, Bilau\n"
     ]
    }
   ],
   "source": [
    "cumprimento = \"Olá, \"\n",
    "nome = \"Bilau\"\n",
    "print(cumprimento, nome)\n",
    "print(cumprimento + nome)"
   ]
  },
  {
   "cell_type": "code",
   "execution_count": 8,
   "metadata": {},
   "outputs": [
    {
     "name": "stdout",
     "output_type": "stream",
     "text": [
      "BilauBilauBilauBilauBilau\n"
     ]
    }
   ],
   "source": [
    "print(nome * 5)"
   ]
  },
  {
   "cell_type": "code",
   "execution_count": 29,
   "metadata": {},
   "outputs": [
    {
     "name": "stdout",
     "output_type": "stream",
     "text": [
      "Diego380\n",
      "Diego tem 38 anos e tem 0 filhos\n"
     ]
    }
   ],
   "source": [
    "nome = \"Diego\" \n",
    "idade = 38\n",
    "filhos = 0\n",
    "print(nome + str(idade) + str(filhos))\n",
    "print(nome + ' tem ' + str(idade) + ' anos ' + 'e tem ' + str(filhos) + ' filhos')"
   ]
  },
  {
   "cell_type": "markdown",
   "metadata": {},
   "source": [
    "# Format"
   ]
  },
  {
   "cell_type": "code",
   "execution_count": 30,
   "metadata": {},
   "outputs": [
    {
     "name": "stdout",
     "output_type": "stream",
     "text": [
      "Diego tem 38 anos e tem 0 filhos\n"
     ]
    }
   ],
   "source": [
    "print(\"{} tem {} anos e tem {} filhos\".format(nome, idade, filhos))"
   ]
  },
  {
   "cell_type": "code",
   "execution_count": 33,
   "metadata": {},
   "outputs": [
    {
     "name": "stdout",
     "output_type": "stream",
     "text": [
      "O preço da gazolina está em 3.56\n"
     ]
    }
   ],
   "source": [
    "# Casas decimais\n",
    "preco_gasol = 3.562\n",
    "print(\"O preço da gazolina está em {:.2f}\".format(preco_gasol))"
   ]
  },
  {
   "cell_type": "code",
   "execution_count": 35,
   "metadata": {},
   "outputs": [
    {
     "name": "stdout",
     "output_type": "stream",
     "text": [
      "Diego tem 38 anos e tem 0 filhos\n"
     ]
    }
   ],
   "source": [
    "# Atalho método format\n",
    "print(f\"{nome} tem {idade} anos e tem {filhos} filhos\")"
   ]
  },
  {
   "cell_type": "code",
   "execution_count": null,
   "metadata": {},
   "outputs": [],
   "source": []
  }
 ],
 "metadata": {
  "kernelspec": {
   "display_name": "Python 3.10.4 64-bit",
   "language": "python",
   "name": "python3"
  },
  "language_info": {
   "codemirror_mode": {
    "name": "ipython",
    "version": 3
   },
   "file_extension": ".py",
   "mimetype": "text/x-python",
   "name": "python",
   "nbconvert_exporter": "python",
   "pygments_lexer": "ipython3",
   "version": "3.10.4"
  },
  "vscode": {
   "interpreter": {
    "hash": "f38737023fdd18a0f3e18b5b6728da12ca7c2c10f123c3370e824edde29d49fa"
   }
  }
 },
 "nbformat": 4,
 "nbformat_minor": 2
}
