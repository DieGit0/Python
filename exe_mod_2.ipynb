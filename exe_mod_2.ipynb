{
 "cells": [
  {
   "cell_type": "markdown",
   "id": "0328b607",
   "metadata": {},
   "source": [
    "### Exercícios Módulo 2 - Python"
   ]
  },
  {
   "cell_type": "markdown",
   "id": "3143ddbd",
   "metadata": {},
   "source": [
    "1. Faça um programa que olhe todos os itens de uma lista e diga quantos deles \n",
    "são pares"
   ]
  },
  {
   "cell_type": "code",
   "execution_count": null,
   "id": "733b6040",
   "metadata": {},
   "outputs": [],
   "source": [
    "#lst = list(range(1,11))\n",
    "def fpares(l):\n",
    "    #1. l é uma string de dígitos-numéricos \n",
    "    #2. l.split() converte essa string em uma lista de dígitos-numéricos\n",
    "    #3. map (..int(n)) converte todos eles em uma lista de inteiros\n",
    "    #4. filter aplica função lambda retornando somente os pares\n",
    "    #5. len da lista = quantidade de pares\n",
    "    lst = list(map(lambda n: int(n), l.split())) #2, #3\n",
    "    pares = len((list(filter(lambda x: x % 2 == 0, lst)))) #4, #5\n",
    "    return pares\n",
    "    \n",
    "li = input(\"Lista:\")\n",
    "\n",
    "fpares(li)"
   ]
  },
  {
   "cell_type": "markdown",
   "id": "b65829fe",
   "metadata": {},
   "source": [
    "2. Faça um programa que peça para o usuário digitar uma palavra e imprima \n",
    "cada letra em uma linha.\n"
   ]
  },
  {
   "cell_type": "code",
   "execution_count": null,
   "id": "2c21465c",
   "metadata": {},
   "outputs": [],
   "source": [
    "w = input(\"Digite a palavra:\")\n",
    "for c in w:\n",
    "    print(c)"
   ]
  },
  {
   "cell_type": "markdown",
   "id": "af8fc991",
   "metadata": {},
   "source": [
    "3. Faça uma função que recebe duas listas e retorna a soma item a item dessas \n",
    "listas. <br>\n",
    "Exemplo: Se a função receber as listas [1,4,3] e [3,5,1], então a função deve \n",
    "retornar [1+3, 4+5, 3+1] = [4, 9, 4]"
   ]
  },
  {
   "cell_type": "markdown",
   "id": "ba3227f5",
   "metadata": {},
   "source": [
    "#### Exemplo com map, filter"
   ]
  },
  {
   "cell_type": "code",
   "execution_count": 71,
   "id": "1a94f44e",
   "metadata": {},
   "outputs": [
    {
     "name": "stdout",
     "output_type": "stream",
     "text": [
      "Lista 1: 1 4 3\n",
      "Lista 2: 3 5 1\n"
     ]
    },
    {
     "data": {
      "text/plain": [
       "[4, 9, 4]"
      ]
     },
     "execution_count": 71,
     "metadata": {},
     "output_type": "execute_result"
    }
   ],
   "source": [
    "l1 = input(\"Lista 1: \")\n",
    "l2 = input(\"Lista 2: \")\n",
    "\n",
    "def func(l1, l2):\n",
    "    a = list(map(lambda n : int(n), l1.split())) # converte lista a em lista de inteiros e tbm retira os espacos(caracter separador padrao)\n",
    "    b = list(map(lambda n : int(n), l2.split())) # converte lista b ... \n",
    "    l = list(map(lambda t: t[0] + t[1], list(zip(a,b))))\n",
    "    return l\n",
    "\n",
    "func(l1, l2)"
   ]
  },
  {
   "cell_type": "markdown",
   "id": "35b1ed3c",
   "metadata": {},
   "source": [
    "#### Com for"
   ]
  },
  {
   "cell_type": "code",
   "execution_count": 99,
   "id": "c65b4486",
   "metadata": {},
   "outputs": [
    {
     "name": "stdout",
     "output_type": "stream",
     "text": [
      "Lista 1: 1 1 1\n",
      "Lista 2: 10 12 13\n",
      "lista p: [('1', '10'), ('1', '12'), ('1', '13')]\n",
      "[11, 13, 14]\n"
     ]
    }
   ],
   "source": [
    "a = input(\"Lista 1: \")\n",
    "b = input(\"Lista 2: \")\n",
    "p = list(zip(a.split(),b.split())) # para retirar os espaços que cada tupla iria conter pois:  \"1 2 3\" e \"4 5 6\" contem em si pares de espaços\n",
    "# [('1', '4'), (' ',' '), ('2', '5'),(' ',' ') ('3', '6')] \n",
    "print(\"lista p:\", p)\n",
    "l = []\n",
    "for t in p:\n",
    "    x,y = int(t[0]), int(t[1])\n",
    "    l.append(x + y)\n",
    "print(l)   "
   ]
  },
  {
   "cell_type": "markdown",
   "id": "9f4d416a",
   "metadata": {},
   "source": [
    "4. Crie um dicionário cujas chaves são os meses do ano e os valores são a \n",
    "duração (em dias) de cada mê"
   ]
  },
  {
   "cell_type": "code",
   "execution_count": 108,
   "id": "1f57277b",
   "metadata": {},
   "outputs": [],
   "source": [
    "mes = {'Janeiro'  : 31 ,\n",
    "       'Fevereiro': 28 ,\n",
    "       'Março'    : 31 ,\n",
    "       'Abril'    : 30 ,\n",
    "       'Maio'     : 31 ,\n",
    "       'Junho'    : 30 ,\n",
    "       'Julho'    : 31 ,\n",
    "       'Agosto'   : 31 ,\n",
    "       'Setembro' : 30 ,\n",
    "       'Outubro'  : 31,\n",
    "       'Novembro' : 30,\n",
    "       'Dezembro' : 31\n",
    "      }\n"
   ]
  },
  {
   "cell_type": "markdown",
   "id": "bec862d4",
   "metadata": {},
   "source": [
    "5. Imprima as chaves seguidas dos seus valores para dicionário criado no exercício anterior <br>\n",
    "Exemplo:       <br>\n",
    "Janeiro - 31   <br>\n",
    "Fevereiro - 28 <br>\n",
    "Março - 31     <br>\n",
    "Etc...         <br>"
   ]
  },
  {
   "cell_type": "code",
   "execution_count": 111,
   "id": "92e03a5c",
   "metadata": {},
   "outputs": [
    {
     "name": "stdout",
     "output_type": "stream",
     "text": [
      "Janeiro - 31\n",
      "Fevereiro - 28\n",
      "Março - 31\n",
      "Abril - 30\n",
      "Maio - 31\n",
      "Junho - 30\n",
      "Julho - 31\n",
      "Agosto - 31\n",
      "Setembro - 30\n",
      "Outubro - 31\n",
      "Novembro - 30\n",
      "Dezembro - 31\n"
     ]
    }
   ],
   "source": [
    "for m in mes:\n",
    "    print(f'{m} - {mes[m]}')"
   ]
  },
  {
   "cell_type": "code",
   "execution_count": 87,
   "id": "9345e99a",
   "metadata": {},
   "outputs": [
    {
     "data": {
      "text/plain": [
       "1"
      ]
     },
     "execution_count": 87,
     "metadata": {},
     "output_type": "execute_result"
    }
   ],
   "source": []
  },
  {
   "cell_type": "code",
   "execution_count": null,
   "id": "84415d73",
   "metadata": {},
   "outputs": [],
   "source": []
  }
 ],
 "metadata": {
  "kernelspec": {
   "display_name": "Python 3 (ipykernel)",
   "language": "python",
   "name": "python3"
  },
  "language_info": {
   "codemirror_mode": {
    "name": "ipython",
    "version": 3
   },
   "file_extension": ".py",
   "mimetype": "text/x-python",
   "name": "python",
   "nbconvert_exporter": "python",
   "pygments_lexer": "ipython3",
   "version": "3.9.12"
  }
 },
 "nbformat": 4,
 "nbformat_minor": 5
}
